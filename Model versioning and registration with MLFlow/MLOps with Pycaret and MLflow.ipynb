{
 "cells": [
  {
   "cell_type": "markdown",
   "id": "dc9e6b04",
   "metadata": {},
   "source": [
    "# MLOps con MLflow"
   ]
  },
  {
   "cell_type": "markdown",
   "id": "049ef8de",
   "metadata": {},
   "source": [
    "#### Get data"
   ]
  },
  {
   "cell_type": "code",
   "execution_count": 1,
   "id": "d299f435",
   "metadata": {},
   "outputs": [
    {
     "data": {
      "text/html": [
       "<div>\n",
       "<style scoped>\n",
       "    .dataframe tbody tr th:only-of-type {\n",
       "        vertical-align: middle;\n",
       "    }\n",
       "\n",
       "    .dataframe tbody tr th {\n",
       "        vertical-align: top;\n",
       "    }\n",
       "\n",
       "    .dataframe thead th {\n",
       "        text-align: right;\n",
       "    }\n",
       "</style>\n",
       "<table border=\"1\" class=\"dataframe\">\n",
       "  <thead>\n",
       "    <tr style=\"text-align: right;\">\n",
       "      <th></th>\n",
       "      <th>Carat Weight</th>\n",
       "      <th>Cut</th>\n",
       "      <th>Color</th>\n",
       "      <th>Clarity</th>\n",
       "      <th>Polish</th>\n",
       "      <th>Symmetry</th>\n",
       "      <th>Report</th>\n",
       "      <th>Price</th>\n",
       "    </tr>\n",
       "  </thead>\n",
       "  <tbody>\n",
       "    <tr>\n",
       "      <th>0</th>\n",
       "      <td>1.10</td>\n",
       "      <td>Ideal</td>\n",
       "      <td>H</td>\n",
       "      <td>SI1</td>\n",
       "      <td>VG</td>\n",
       "      <td>EX</td>\n",
       "      <td>GIA</td>\n",
       "      <td>5169</td>\n",
       "    </tr>\n",
       "    <tr>\n",
       "      <th>1</th>\n",
       "      <td>0.83</td>\n",
       "      <td>Ideal</td>\n",
       "      <td>H</td>\n",
       "      <td>VS1</td>\n",
       "      <td>ID</td>\n",
       "      <td>ID</td>\n",
       "      <td>AGSL</td>\n",
       "      <td>3470</td>\n",
       "    </tr>\n",
       "    <tr>\n",
       "      <th>2</th>\n",
       "      <td>0.85</td>\n",
       "      <td>Ideal</td>\n",
       "      <td>H</td>\n",
       "      <td>SI1</td>\n",
       "      <td>EX</td>\n",
       "      <td>EX</td>\n",
       "      <td>GIA</td>\n",
       "      <td>3183</td>\n",
       "    </tr>\n",
       "    <tr>\n",
       "      <th>3</th>\n",
       "      <td>0.91</td>\n",
       "      <td>Ideal</td>\n",
       "      <td>E</td>\n",
       "      <td>SI1</td>\n",
       "      <td>VG</td>\n",
       "      <td>VG</td>\n",
       "      <td>GIA</td>\n",
       "      <td>4370</td>\n",
       "    </tr>\n",
       "    <tr>\n",
       "      <th>4</th>\n",
       "      <td>0.83</td>\n",
       "      <td>Ideal</td>\n",
       "      <td>G</td>\n",
       "      <td>SI1</td>\n",
       "      <td>EX</td>\n",
       "      <td>EX</td>\n",
       "      <td>GIA</td>\n",
       "      <td>3171</td>\n",
       "    </tr>\n",
       "  </tbody>\n",
       "</table>\n",
       "</div>"
      ],
      "text/plain": [
       "   Carat Weight    Cut Color Clarity Polish Symmetry Report  Price\n",
       "0          1.10  Ideal     H     SI1     VG       EX    GIA   5169\n",
       "1          0.83  Ideal     H     VS1     ID       ID   AGSL   3470\n",
       "2          0.85  Ideal     H     SI1     EX       EX    GIA   3183\n",
       "3          0.91  Ideal     E     SI1     VG       VG    GIA   4370\n",
       "4          0.83  Ideal     G     SI1     EX       EX    GIA   3171"
      ]
     },
     "metadata": {},
     "output_type": "display_data"
    }
   ],
   "source": [
    "# load the dataset from pycaret\n",
    "from pycaret.datasets import get_data\n",
    "data = get_data('diamond')"
   ]
  },
  {
   "cell_type": "markdown",
   "id": "84ff9cd3",
   "metadata": {},
   "source": [
    "#### Preprocessing"
   ]
  },
  {
   "cell_type": "code",
   "execution_count": 30,
   "id": "d885b6f6",
   "metadata": {},
   "outputs": [
    {
     "data": {
      "text/html": [
       "<style type=\"text/css\">\n",
       "#T_e14fe_row10_col1, #T_e14fe_row16_col1, #T_e14fe_row21_col1 {\n",
       "  background-color: lightgreen;\n",
       "}\n",
       "</style>\n",
       "<table id=\"T_e14fe\">\n",
       "  <thead>\n",
       "    <tr>\n",
       "      <th class=\"blank level0\" >&nbsp;</th>\n",
       "      <th id=\"T_e14fe_level0_col0\" class=\"col_heading level0 col0\" >Description</th>\n",
       "      <th id=\"T_e14fe_level0_col1\" class=\"col_heading level0 col1\" >Value</th>\n",
       "    </tr>\n",
       "  </thead>\n",
       "  <tbody>\n",
       "    <tr>\n",
       "      <th id=\"T_e14fe_level0_row0\" class=\"row_heading level0 row0\" >0</th>\n",
       "      <td id=\"T_e14fe_row0_col0\" class=\"data row0 col0\" >Session id</td>\n",
       "      <td id=\"T_e14fe_row0_col1\" class=\"data row0 col1\" >3500</td>\n",
       "    </tr>\n",
       "    <tr>\n",
       "      <th id=\"T_e14fe_level0_row1\" class=\"row_heading level0 row1\" >1</th>\n",
       "      <td id=\"T_e14fe_row1_col0\" class=\"data row1 col0\" >Target</td>\n",
       "      <td id=\"T_e14fe_row1_col1\" class=\"data row1 col1\" >Price</td>\n",
       "    </tr>\n",
       "    <tr>\n",
       "      <th id=\"T_e14fe_level0_row2\" class=\"row_heading level0 row2\" >2</th>\n",
       "      <td id=\"T_e14fe_row2_col0\" class=\"data row2 col0\" >Target type</td>\n",
       "      <td id=\"T_e14fe_row2_col1\" class=\"data row2 col1\" >Regression</td>\n",
       "    </tr>\n",
       "    <tr>\n",
       "      <th id=\"T_e14fe_level0_row3\" class=\"row_heading level0 row3\" >3</th>\n",
       "      <td id=\"T_e14fe_row3_col0\" class=\"data row3 col0\" >Original data shape</td>\n",
       "      <td id=\"T_e14fe_row3_col1\" class=\"data row3 col1\" >(6000, 8)</td>\n",
       "    </tr>\n",
       "    <tr>\n",
       "      <th id=\"T_e14fe_level0_row4\" class=\"row_heading level0 row4\" >4</th>\n",
       "      <td id=\"T_e14fe_row4_col0\" class=\"data row4 col0\" >Transformed data shape</td>\n",
       "      <td id=\"T_e14fe_row4_col1\" class=\"data row4 col1\" >(6000, 29)</td>\n",
       "    </tr>\n",
       "    <tr>\n",
       "      <th id=\"T_e14fe_level0_row5\" class=\"row_heading level0 row5\" >5</th>\n",
       "      <td id=\"T_e14fe_row5_col0\" class=\"data row5 col0\" >Transformed train set shape</td>\n",
       "      <td id=\"T_e14fe_row5_col1\" class=\"data row5 col1\" >(4200, 29)</td>\n",
       "    </tr>\n",
       "    <tr>\n",
       "      <th id=\"T_e14fe_level0_row6\" class=\"row_heading level0 row6\" >6</th>\n",
       "      <td id=\"T_e14fe_row6_col0\" class=\"data row6 col0\" >Transformed test set shape</td>\n",
       "      <td id=\"T_e14fe_row6_col1\" class=\"data row6 col1\" >(1800, 29)</td>\n",
       "    </tr>\n",
       "    <tr>\n",
       "      <th id=\"T_e14fe_level0_row7\" class=\"row_heading level0 row7\" >7</th>\n",
       "      <td id=\"T_e14fe_row7_col0\" class=\"data row7 col0\" >Ordinal features</td>\n",
       "      <td id=\"T_e14fe_row7_col1\" class=\"data row7 col1\" >1</td>\n",
       "    </tr>\n",
       "    <tr>\n",
       "      <th id=\"T_e14fe_level0_row8\" class=\"row_heading level0 row8\" >8</th>\n",
       "      <td id=\"T_e14fe_row8_col0\" class=\"data row8 col0\" >Numeric features</td>\n",
       "      <td id=\"T_e14fe_row8_col1\" class=\"data row8 col1\" >1</td>\n",
       "    </tr>\n",
       "    <tr>\n",
       "      <th id=\"T_e14fe_level0_row9\" class=\"row_heading level0 row9\" >9</th>\n",
       "      <td id=\"T_e14fe_row9_col0\" class=\"data row9 col0\" >Categorical features</td>\n",
       "      <td id=\"T_e14fe_row9_col1\" class=\"data row9 col1\" >6</td>\n",
       "    </tr>\n",
       "    <tr>\n",
       "      <th id=\"T_e14fe_level0_row10\" class=\"row_heading level0 row10\" >10</th>\n",
       "      <td id=\"T_e14fe_row10_col0\" class=\"data row10 col0\" >Preprocess</td>\n",
       "      <td id=\"T_e14fe_row10_col1\" class=\"data row10 col1\" >True</td>\n",
       "    </tr>\n",
       "    <tr>\n",
       "      <th id=\"T_e14fe_level0_row11\" class=\"row_heading level0 row11\" >11</th>\n",
       "      <td id=\"T_e14fe_row11_col0\" class=\"data row11 col0\" >Imputation type</td>\n",
       "      <td id=\"T_e14fe_row11_col1\" class=\"data row11 col1\" >simple</td>\n",
       "    </tr>\n",
       "    <tr>\n",
       "      <th id=\"T_e14fe_level0_row12\" class=\"row_heading level0 row12\" >12</th>\n",
       "      <td id=\"T_e14fe_row12_col0\" class=\"data row12 col0\" >Numeric imputation</td>\n",
       "      <td id=\"T_e14fe_row12_col1\" class=\"data row12 col1\" >mean</td>\n",
       "    </tr>\n",
       "    <tr>\n",
       "      <th id=\"T_e14fe_level0_row13\" class=\"row_heading level0 row13\" >13</th>\n",
       "      <td id=\"T_e14fe_row13_col0\" class=\"data row13 col0\" >Categorical imputation</td>\n",
       "      <td id=\"T_e14fe_row13_col1\" class=\"data row13 col1\" >mode</td>\n",
       "    </tr>\n",
       "    <tr>\n",
       "      <th id=\"T_e14fe_level0_row14\" class=\"row_heading level0 row14\" >14</th>\n",
       "      <td id=\"T_e14fe_row14_col0\" class=\"data row14 col0\" >Maximum one-hot encoding</td>\n",
       "      <td id=\"T_e14fe_row14_col1\" class=\"data row14 col1\" >25</td>\n",
       "    </tr>\n",
       "    <tr>\n",
       "      <th id=\"T_e14fe_level0_row15\" class=\"row_heading level0 row15\" >15</th>\n",
       "      <td id=\"T_e14fe_row15_col0\" class=\"data row15 col0\" >Encoding method</td>\n",
       "      <td id=\"T_e14fe_row15_col1\" class=\"data row15 col1\" >None</td>\n",
       "    </tr>\n",
       "    <tr>\n",
       "      <th id=\"T_e14fe_level0_row16\" class=\"row_heading level0 row16\" >16</th>\n",
       "      <td id=\"T_e14fe_row16_col0\" class=\"data row16 col0\" >Transform target</td>\n",
       "      <td id=\"T_e14fe_row16_col1\" class=\"data row16 col1\" >True</td>\n",
       "    </tr>\n",
       "    <tr>\n",
       "      <th id=\"T_e14fe_level0_row17\" class=\"row_heading level0 row17\" >17</th>\n",
       "      <td id=\"T_e14fe_row17_col0\" class=\"data row17 col0\" >Transform target method</td>\n",
       "      <td id=\"T_e14fe_row17_col1\" class=\"data row17 col1\" >yeo-johnson</td>\n",
       "    </tr>\n",
       "    <tr>\n",
       "      <th id=\"T_e14fe_level0_row18\" class=\"row_heading level0 row18\" >18</th>\n",
       "      <td id=\"T_e14fe_row18_col0\" class=\"data row18 col0\" >Fold Generator</td>\n",
       "      <td id=\"T_e14fe_row18_col1\" class=\"data row18 col1\" >KFold</td>\n",
       "    </tr>\n",
       "    <tr>\n",
       "      <th id=\"T_e14fe_level0_row19\" class=\"row_heading level0 row19\" >19</th>\n",
       "      <td id=\"T_e14fe_row19_col0\" class=\"data row19 col0\" >Fold Number</td>\n",
       "      <td id=\"T_e14fe_row19_col1\" class=\"data row19 col1\" >10</td>\n",
       "    </tr>\n",
       "    <tr>\n",
       "      <th id=\"T_e14fe_level0_row20\" class=\"row_heading level0 row20\" >20</th>\n",
       "      <td id=\"T_e14fe_row20_col0\" class=\"data row20 col0\" >CPU Jobs</td>\n",
       "      <td id=\"T_e14fe_row20_col1\" class=\"data row20 col1\" >-1</td>\n",
       "    </tr>\n",
       "    <tr>\n",
       "      <th id=\"T_e14fe_level0_row21\" class=\"row_heading level0 row21\" >21</th>\n",
       "      <td id=\"T_e14fe_row21_col0\" class=\"data row21 col0\" >Use GPU</td>\n",
       "      <td id=\"T_e14fe_row21_col1\" class=\"data row21 col1\" >True</td>\n",
       "    </tr>\n",
       "    <tr>\n",
       "      <th id=\"T_e14fe_level0_row22\" class=\"row_heading level0 row22\" >22</th>\n",
       "      <td id=\"T_e14fe_row22_col0\" class=\"data row22 col0\" >Log Experiment</td>\n",
       "      <td id=\"T_e14fe_row22_col1\" class=\"data row22 col1\" >MlflowLogger</td>\n",
       "    </tr>\n",
       "    <tr>\n",
       "      <th id=\"T_e14fe_level0_row23\" class=\"row_heading level0 row23\" >23</th>\n",
       "      <td id=\"T_e14fe_row23_col0\" class=\"data row23 col0\" >Experiment Name</td>\n",
       "      <td id=\"T_e14fe_row23_col1\" class=\"data row23 col1\" >diamond</td>\n",
       "    </tr>\n",
       "    <tr>\n",
       "      <th id=\"T_e14fe_level0_row24\" class=\"row_heading level0 row24\" >24</th>\n",
       "      <td id=\"T_e14fe_row24_col0\" class=\"data row24 col0\" >USI</td>\n",
       "      <td id=\"T_e14fe_row24_col1\" class=\"data row24 col1\" >6465</td>\n",
       "    </tr>\n",
       "  </tbody>\n",
       "</table>\n"
      ],
      "text/plain": [
       "<pandas.io.formats.style.Styler at 0x284d8b26320>"
      ]
     },
     "metadata": {},
     "output_type": "display_data"
    }
   ],
   "source": [
    "# initialize setup\n",
    "from pycaret.regression import *\n",
    "s = setup(data, target = 'Price', \n",
    "          transform_target = True, \n",
    "          log_experiment = True, \n",
    "          # log_plots = True,\n",
    "          experiment_name = 'diamond',\n",
    "         verbose = True, use_gpu=True)"
   ]
  },
  {
   "cell_type": "markdown",
   "id": "e62a5f68",
   "metadata": {},
   "source": [
    "#### Model Training"
   ]
  },
  {
   "cell_type": "code",
   "execution_count": 31,
   "id": "827b835c",
   "metadata": {},
   "outputs": [
    {
     "data": {
      "text/html": [],
      "text/plain": [
       "<IPython.core.display.HTML object>"
      ]
     },
     "metadata": {},
     "output_type": "display_data"
    },
    {
     "data": {
      "text/html": [
       "<style type=\"text/css\">\n",
       "#T_cd634 th {\n",
       "  text-align: left;\n",
       "}\n",
       "#T_cd634_row0_col0, #T_cd634_row1_col0, #T_cd634_row1_col1, #T_cd634_row1_col2, #T_cd634_row1_col3, #T_cd634_row1_col4, #T_cd634_row1_col5, #T_cd634_row1_col6, #T_cd634_row2_col0, #T_cd634_row2_col1, #T_cd634_row2_col2, #T_cd634_row2_col3, #T_cd634_row2_col4, #T_cd634_row2_col5, #T_cd634_row2_col6, #T_cd634_row3_col0, #T_cd634_row3_col1, #T_cd634_row3_col2, #T_cd634_row3_col3, #T_cd634_row3_col4, #T_cd634_row3_col5, #T_cd634_row3_col6, #T_cd634_row4_col0, #T_cd634_row4_col1, #T_cd634_row4_col2, #T_cd634_row4_col3, #T_cd634_row4_col4, #T_cd634_row4_col5, #T_cd634_row4_col6, #T_cd634_row5_col0, #T_cd634_row5_col1, #T_cd634_row5_col2, #T_cd634_row5_col3, #T_cd634_row5_col4, #T_cd634_row5_col5, #T_cd634_row5_col6, #T_cd634_row6_col0, #T_cd634_row6_col1, #T_cd634_row6_col2, #T_cd634_row6_col3, #T_cd634_row6_col4, #T_cd634_row6_col5, #T_cd634_row6_col6, #T_cd634_row7_col0, #T_cd634_row7_col1, #T_cd634_row7_col2, #T_cd634_row7_col3, #T_cd634_row7_col4, #T_cd634_row7_col5, #T_cd634_row7_col6, #T_cd634_row8_col0, #T_cd634_row8_col1, #T_cd634_row8_col2, #T_cd634_row8_col3, #T_cd634_row8_col4, #T_cd634_row8_col5, #T_cd634_row8_col6, #T_cd634_row9_col0, #T_cd634_row9_col1, #T_cd634_row9_col2, #T_cd634_row9_col3, #T_cd634_row9_col4, #T_cd634_row9_col5, #T_cd634_row9_col6, #T_cd634_row10_col0, #T_cd634_row10_col1, #T_cd634_row10_col2, #T_cd634_row10_col3, #T_cd634_row10_col4, #T_cd634_row10_col5, #T_cd634_row10_col6, #T_cd634_row11_col0, #T_cd634_row11_col1, #T_cd634_row11_col2, #T_cd634_row11_col3, #T_cd634_row11_col4, #T_cd634_row11_col5, #T_cd634_row11_col6, #T_cd634_row12_col0, #T_cd634_row12_col1, #T_cd634_row12_col2, #T_cd634_row12_col3, #T_cd634_row12_col4, #T_cd634_row12_col5, #T_cd634_row12_col6, #T_cd634_row13_col0, #T_cd634_row13_col1, #T_cd634_row13_col2, #T_cd634_row13_col3, #T_cd634_row13_col4, #T_cd634_row13_col5, #T_cd634_row13_col6, #T_cd634_row14_col0, #T_cd634_row14_col1, #T_cd634_row14_col2, #T_cd634_row14_col3, #T_cd634_row14_col4, #T_cd634_row14_col5, #T_cd634_row14_col6, #T_cd634_row15_col0, #T_cd634_row15_col1, #T_cd634_row15_col2, #T_cd634_row15_col3, #T_cd634_row15_col4, #T_cd634_row15_col5, #T_cd634_row15_col6 {\n",
       "  text-align: left;\n",
       "}\n",
       "#T_cd634_row0_col1, #T_cd634_row0_col2, #T_cd634_row0_col3, #T_cd634_row0_col4, #T_cd634_row0_col5, #T_cd634_row0_col6 {\n",
       "  text-align: left;\n",
       "  background-color: yellow;\n",
       "}\n",
       "#T_cd634_row0_col7, #T_cd634_row1_col7, #T_cd634_row2_col7, #T_cd634_row3_col7, #T_cd634_row4_col7, #T_cd634_row5_col7, #T_cd634_row6_col7, #T_cd634_row7_col7, #T_cd634_row8_col7, #T_cd634_row10_col7, #T_cd634_row11_col7, #T_cd634_row12_col7, #T_cd634_row13_col7, #T_cd634_row14_col7, #T_cd634_row15_col7 {\n",
       "  text-align: left;\n",
       "  background-color: lightgrey;\n",
       "}\n",
       "#T_cd634_row9_col7 {\n",
       "  text-align: left;\n",
       "  background-color: yellow;\n",
       "  background-color: lightgrey;\n",
       "}\n",
       "</style>\n",
       "<table id=\"T_cd634\">\n",
       "  <thead>\n",
       "    <tr>\n",
       "      <th class=\"blank level0\" >&nbsp;</th>\n",
       "      <th id=\"T_cd634_level0_col0\" class=\"col_heading level0 col0\" >Model</th>\n",
       "      <th id=\"T_cd634_level0_col1\" class=\"col_heading level0 col1\" >MAE</th>\n",
       "      <th id=\"T_cd634_level0_col2\" class=\"col_heading level0 col2\" >MSE</th>\n",
       "      <th id=\"T_cd634_level0_col3\" class=\"col_heading level0 col3\" >RMSE</th>\n",
       "      <th id=\"T_cd634_level0_col4\" class=\"col_heading level0 col4\" >R2</th>\n",
       "      <th id=\"T_cd634_level0_col5\" class=\"col_heading level0 col5\" >RMSLE</th>\n",
       "      <th id=\"T_cd634_level0_col6\" class=\"col_heading level0 col6\" >MAPE</th>\n",
       "      <th id=\"T_cd634_level0_col7\" class=\"col_heading level0 col7\" >TT (Sec)</th>\n",
       "    </tr>\n",
       "  </thead>\n",
       "  <tbody>\n",
       "    <tr>\n",
       "      <th id=\"T_cd634_level0_row0\" class=\"row_heading level0 row0\" >lightgbm</th>\n",
       "      <td id=\"T_cd634_row0_col0\" class=\"data row0 col0\" >Light Gradient Boosting Machine</td>\n",
       "      <td id=\"T_cd634_row0_col1\" class=\"data row0 col1\" >598.0807</td>\n",
       "      <td id=\"T_cd634_row0_col2\" class=\"data row0 col2\" >1585175.4482</td>\n",
       "      <td id=\"T_cd634_row0_col3\" class=\"data row0 col3\" >1230.6347</td>\n",
       "      <td id=\"T_cd634_row0_col4\" class=\"data row0 col4\" >0.9843</td>\n",
       "      <td id=\"T_cd634_row0_col5\" class=\"data row0 col5\" >0.0650</td>\n",
       "      <td id=\"T_cd634_row0_col6\" class=\"data row0 col6\" >0.0476</td>\n",
       "      <td id=\"T_cd634_row0_col7\" class=\"data row0 col7\" >2.3760</td>\n",
       "    </tr>\n",
       "    <tr>\n",
       "      <th id=\"T_cd634_level0_row1\" class=\"row_heading level0 row1\" >rf</th>\n",
       "      <td id=\"T_cd634_row1_col0\" class=\"data row1 col0\" >Random Forest Regressor</td>\n",
       "      <td id=\"T_cd634_row1_col1\" class=\"data row1 col1\" >697.2967</td>\n",
       "      <td id=\"T_cd634_row1_col2\" class=\"data row1 col2\" >2125049.5412</td>\n",
       "      <td id=\"T_cd634_row1_col3\" class=\"data row1 col3\" >1419.8767</td>\n",
       "      <td id=\"T_cd634_row1_col4\" class=\"data row1 col4\" >0.9793</td>\n",
       "      <td id=\"T_cd634_row1_col5\" class=\"data row1 col5\" >0.0767</td>\n",
       "      <td id=\"T_cd634_row1_col6\" class=\"data row1 col6\" >0.0556</td>\n",
       "      <td id=\"T_cd634_row1_col7\" class=\"data row1 col7\" >1.9210</td>\n",
       "    </tr>\n",
       "    <tr>\n",
       "      <th id=\"T_cd634_level0_row2\" class=\"row_heading level0 row2\" >et</th>\n",
       "      <td id=\"T_cd634_row2_col0\" class=\"data row2 col0\" >Extra Trees Regressor</td>\n",
       "      <td id=\"T_cd634_row2_col1\" class=\"data row2 col1\" >699.2947</td>\n",
       "      <td id=\"T_cd634_row2_col2\" class=\"data row2 col2\" >2204527.1106</td>\n",
       "      <td id=\"T_cd634_row2_col3\" class=\"data row2 col3\" >1430.9481</td>\n",
       "      <td id=\"T_cd634_row2_col4\" class=\"data row2 col4\" >0.9787</td>\n",
       "      <td id=\"T_cd634_row2_col5\" class=\"data row2 col5\" >0.0774</td>\n",
       "      <td id=\"T_cd634_row2_col6\" class=\"data row2 col6\" >0.0567</td>\n",
       "      <td id=\"T_cd634_row2_col7\" class=\"data row2 col7\" >1.3990</td>\n",
       "    </tr>\n",
       "    <tr>\n",
       "      <th id=\"T_cd634_level0_row3\" class=\"row_heading level0 row3\" >gbr</th>\n",
       "      <td id=\"T_cd634_row3_col0\" class=\"data row3 col0\" >Gradient Boosting Regressor</td>\n",
       "      <td id=\"T_cd634_row3_col1\" class=\"data row3 col1\" >749.9067</td>\n",
       "      <td id=\"T_cd634_row3_col2\" class=\"data row3 col2\" >2373421.7851</td>\n",
       "      <td id=\"T_cd634_row3_col3\" class=\"data row3 col3\" >1511.6139</td>\n",
       "      <td id=\"T_cd634_row3_col4\" class=\"data row3 col4\" >0.9765</td>\n",
       "      <td id=\"T_cd634_row3_col5\" class=\"data row3 col5\" >0.0763</td>\n",
       "      <td id=\"T_cd634_row3_col6\" class=\"data row3 col6\" >0.0573</td>\n",
       "      <td id=\"T_cd634_row3_col7\" class=\"data row3 col7\" >1.1910</td>\n",
       "    </tr>\n",
       "    <tr>\n",
       "      <th id=\"T_cd634_level0_row4\" class=\"row_heading level0 row4\" >dt</th>\n",
       "      <td id=\"T_cd634_row4_col0\" class=\"data row4 col0\" >Decision Tree Regressor</td>\n",
       "      <td id=\"T_cd634_row4_col1\" class=\"data row4 col1\" >924.9396</td>\n",
       "      <td id=\"T_cd634_row4_col2\" class=\"data row4 col2\" >3942143.3549</td>\n",
       "      <td id=\"T_cd634_row4_col3\" class=\"data row4 col3\" >1953.6533</td>\n",
       "      <td id=\"T_cd634_row4_col4\" class=\"data row4 col4\" >0.9610</td>\n",
       "      <td id=\"T_cd634_row4_col5\" class=\"data row4 col5\" >0.1028</td>\n",
       "      <td id=\"T_cd634_row4_col6\" class=\"data row4 col6\" >0.0736</td>\n",
       "      <td id=\"T_cd634_row4_col7\" class=\"data row4 col7\" >0.7720</td>\n",
       "    </tr>\n",
       "    <tr>\n",
       "      <th id=\"T_cd634_level0_row5\" class=\"row_heading level0 row5\" >ada</th>\n",
       "      <td id=\"T_cd634_row5_col0\" class=\"data row5 col0\" >AdaBoost Regressor</td>\n",
       "      <td id=\"T_cd634_row5_col1\" class=\"data row5 col1\" >1985.9574</td>\n",
       "      <td id=\"T_cd634_row5_col2\" class=\"data row5 col2\" >16483415.2325</td>\n",
       "      <td id=\"T_cd634_row5_col3\" class=\"data row5 col3\" >4026.1508</td>\n",
       "      <td id=\"T_cd634_row5_col4\" class=\"data row5 col4\" >0.8377</td>\n",
       "      <td id=\"T_cd634_row5_col5\" class=\"data row5 col5\" >0.1906</td>\n",
       "      <td id=\"T_cd634_row5_col6\" class=\"data row5 col6\" >0.1543</td>\n",
       "      <td id=\"T_cd634_row5_col7\" class=\"data row5 col7\" >1.1320</td>\n",
       "    </tr>\n",
       "    <tr>\n",
       "      <th id=\"T_cd634_level0_row6\" class=\"row_heading level0 row6\" >knn</th>\n",
       "      <td id=\"T_cd634_row6_col0\" class=\"data row6 col0\" >K Neighbors Regressor</td>\n",
       "      <td id=\"T_cd634_row6_col1\" class=\"data row6 col1\" >2923.2777</td>\n",
       "      <td id=\"T_cd634_row6_col2\" class=\"data row6 col2\" >34514512.4929</td>\n",
       "      <td id=\"T_cd634_row6_col3\" class=\"data row6 col3\" >5832.4721</td>\n",
       "      <td id=\"T_cd634_row6_col4\" class=\"data row6 col4\" >0.6609</td>\n",
       "      <td id=\"T_cd634_row6_col5\" class=\"data row6 col5\" >0.3501</td>\n",
       "      <td id=\"T_cd634_row6_col6\" class=\"data row6 col6\" >0.2237</td>\n",
       "      <td id=\"T_cd634_row6_col7\" class=\"data row6 col7\" >0.8180</td>\n",
       "    </tr>\n",
       "    <tr>\n",
       "      <th id=\"T_cd634_level0_row7\" class=\"row_heading level0 row7\" >omp</th>\n",
       "      <td id=\"T_cd634_row7_col0\" class=\"data row7 col0\" >Orthogonal Matching Pursuit</td>\n",
       "      <td id=\"T_cd634_row7_col1\" class=\"data row7 col1\" >3223.7075</td>\n",
       "      <td id=\"T_cd634_row7_col2\" class=\"data row7 col2\" >70393548.7530</td>\n",
       "      <td id=\"T_cd634_row7_col3\" class=\"data row7 col3\" >8331.8371</td>\n",
       "      <td id=\"T_cd634_row7_col4\" class=\"data row7 col4\" >0.2821</td>\n",
       "      <td id=\"T_cd634_row7_col5\" class=\"data row7 col5\" >0.2786</td>\n",
       "      <td id=\"T_cd634_row7_col6\" class=\"data row7 col6\" >0.2187</td>\n",
       "      <td id=\"T_cd634_row7_col7\" class=\"data row7 col7\" >0.7290</td>\n",
       "    </tr>\n",
       "    <tr>\n",
       "      <th id=\"T_cd634_level0_row8\" class=\"row_heading level0 row8\" >lasso</th>\n",
       "      <td id=\"T_cd634_row8_col0\" class=\"data row8 col0\" >Lasso Regression</td>\n",
       "      <td id=\"T_cd634_row8_col1\" class=\"data row8 col1\" >6516.2017</td>\n",
       "      <td id=\"T_cd634_row8_col2\" class=\"data row8 col2\" >113173794.4168</td>\n",
       "      <td id=\"T_cd634_row8_col3\" class=\"data row8 col3\" >10621.5834</td>\n",
       "      <td id=\"T_cd634_row8_col4\" class=\"data row8 col4\" >-0.1236</td>\n",
       "      <td id=\"T_cd634_row8_col5\" class=\"data row8 col5\" >0.7102</td>\n",
       "      <td id=\"T_cd634_row8_col6\" class=\"data row8 col6\" >0.5642</td>\n",
       "      <td id=\"T_cd634_row8_col7\" class=\"data row8 col7\" >0.7570</td>\n",
       "    </tr>\n",
       "    <tr>\n",
       "      <th id=\"T_cd634_level0_row9\" class=\"row_heading level0 row9\" >en</th>\n",
       "      <td id=\"T_cd634_row9_col0\" class=\"data row9 col0\" >Elastic Net</td>\n",
       "      <td id=\"T_cd634_row9_col1\" class=\"data row9 col1\" >6516.2017</td>\n",
       "      <td id=\"T_cd634_row9_col2\" class=\"data row9 col2\" >113173794.4168</td>\n",
       "      <td id=\"T_cd634_row9_col3\" class=\"data row9 col3\" >10621.5834</td>\n",
       "      <td id=\"T_cd634_row9_col4\" class=\"data row9 col4\" >-0.1236</td>\n",
       "      <td id=\"T_cd634_row9_col5\" class=\"data row9 col5\" >0.7102</td>\n",
       "      <td id=\"T_cd634_row9_col6\" class=\"data row9 col6\" >0.5642</td>\n",
       "      <td id=\"T_cd634_row9_col7\" class=\"data row9 col7\" >0.6550</td>\n",
       "    </tr>\n",
       "    <tr>\n",
       "      <th id=\"T_cd634_level0_row10\" class=\"row_heading level0 row10\" >llar</th>\n",
       "      <td id=\"T_cd634_row10_col0\" class=\"data row10 col0\" >Lasso Least Angle Regression</td>\n",
       "      <td id=\"T_cd634_row10_col1\" class=\"data row10 col1\" >6516.2017</td>\n",
       "      <td id=\"T_cd634_row10_col2\" class=\"data row10 col2\" >113173794.4168</td>\n",
       "      <td id=\"T_cd634_row10_col3\" class=\"data row10 col3\" >10621.5834</td>\n",
       "      <td id=\"T_cd634_row10_col4\" class=\"data row10 col4\" >-0.1236</td>\n",
       "      <td id=\"T_cd634_row10_col5\" class=\"data row10 col5\" >0.7102</td>\n",
       "      <td id=\"T_cd634_row10_col6\" class=\"data row10 col6\" >0.5642</td>\n",
       "      <td id=\"T_cd634_row10_col7\" class=\"data row10 col7\" >0.7050</td>\n",
       "    </tr>\n",
       "    <tr>\n",
       "      <th id=\"T_cd634_level0_row11\" class=\"row_heading level0 row11\" >dummy</th>\n",
       "      <td id=\"T_cd634_row11_col0\" class=\"data row11 col0\" >Dummy Regressor</td>\n",
       "      <td id=\"T_cd634_row11_col1\" class=\"data row11 col1\" >6516.2017</td>\n",
       "      <td id=\"T_cd634_row11_col2\" class=\"data row11 col2\" >113173794.4168</td>\n",
       "      <td id=\"T_cd634_row11_col3\" class=\"data row11 col3\" >10621.5834</td>\n",
       "      <td id=\"T_cd634_row11_col4\" class=\"data row11 col4\" >-0.1236</td>\n",
       "      <td id=\"T_cd634_row11_col5\" class=\"data row11 col5\" >0.7102</td>\n",
       "      <td id=\"T_cd634_row11_col6\" class=\"data row11 col6\" >0.5642</td>\n",
       "      <td id=\"T_cd634_row11_col7\" class=\"data row11 col7\" >0.8670</td>\n",
       "    </tr>\n",
       "    <tr>\n",
       "      <th id=\"T_cd634_level0_row12\" class=\"row_heading level0 row12\" >huber</th>\n",
       "      <td id=\"T_cd634_row12_col0\" class=\"data row12 col0\" >Huber Regressor</td>\n",
       "      <td id=\"T_cd634_row12_col1\" class=\"data row12 col1\" >3239.9721</td>\n",
       "      <td id=\"T_cd634_row12_col2\" class=\"data row12 col2\" >305374703.0982</td>\n",
       "      <td id=\"T_cd634_row12_col3\" class=\"data row12 col3\" >15445.5524</td>\n",
       "      <td id=\"T_cd634_row12_col4\" class=\"data row12 col4\" >-1.9768</td>\n",
       "      <td id=\"T_cd634_row12_col5\" class=\"data row12 col5\" >0.2474</td>\n",
       "      <td id=\"T_cd634_row12_col6\" class=\"data row12 col6\" >0.1696</td>\n",
       "      <td id=\"T_cd634_row12_col7\" class=\"data row12 col7\" >0.8710</td>\n",
       "    </tr>\n",
       "    <tr>\n",
       "      <th id=\"T_cd634_level0_row13\" class=\"row_heading level0 row13\" >lr</th>\n",
       "      <td id=\"T_cd634_row13_col0\" class=\"data row13 col0\" >Linear Regression</td>\n",
       "      <td id=\"T_cd634_row13_col1\" class=\"data row13 col1\" >3442.7301</td>\n",
       "      <td id=\"T_cd634_row13_col2\" class=\"data row13 col2\" >416674012.2377</td>\n",
       "      <td id=\"T_cd634_row13_col3\" class=\"data row13 col3\" >18206.3361</td>\n",
       "      <td id=\"T_cd634_row13_col4\" class=\"data row13 col4\" >-3.0382</td>\n",
       "      <td id=\"T_cd634_row13_col5\" class=\"data row13 col5\" >0.2245</td>\n",
       "      <td id=\"T_cd634_row13_col6\" class=\"data row13 col6\" >0.1745</td>\n",
       "      <td id=\"T_cd634_row13_col7\" class=\"data row13 col7\" >0.6790</td>\n",
       "    </tr>\n",
       "    <tr>\n",
       "      <th id=\"T_cd634_level0_row14\" class=\"row_heading level0 row14\" >ridge</th>\n",
       "      <td id=\"T_cd634_row14_col0\" class=\"data row14 col0\" >Ridge Regression</td>\n",
       "      <td id=\"T_cd634_row14_col1\" class=\"data row14 col1\" >3401.3888</td>\n",
       "      <td id=\"T_cd634_row14_col2\" class=\"data row14 col2\" >442298417.1148</td>\n",
       "      <td id=\"T_cd634_row14_col3\" class=\"data row14 col3\" >18357.6162</td>\n",
       "      <td id=\"T_cd634_row14_col4\" class=\"data row14 col4\" >-3.2909</td>\n",
       "      <td id=\"T_cd634_row14_col5\" class=\"data row14 col5\" >0.2216</td>\n",
       "      <td id=\"T_cd634_row14_col6\" class=\"data row14 col6\" >0.1716</td>\n",
       "      <td id=\"T_cd634_row14_col7\" class=\"data row14 col7\" >0.7580</td>\n",
       "    </tr>\n",
       "    <tr>\n",
       "      <th id=\"T_cd634_level0_row15\" class=\"row_heading level0 row15\" >br</th>\n",
       "      <td id=\"T_cd634_row15_col0\" class=\"data row15 col0\" >Bayesian Ridge</td>\n",
       "      <td id=\"T_cd634_row15_col1\" class=\"data row15 col1\" >3479.7418</td>\n",
       "      <td id=\"T_cd634_row15_col2\" class=\"data row15 col2\" >556278720.9939</td>\n",
       "      <td id=\"T_cd634_row15_col3\" class=\"data row15 col3\" >19780.9686</td>\n",
       "      <td id=\"T_cd634_row15_col4\" class=\"data row15 col4\" >-4.3742</td>\n",
       "      <td id=\"T_cd634_row15_col5\" class=\"data row15 col5\" >0.2227</td>\n",
       "      <td id=\"T_cd634_row15_col6\" class=\"data row15 col6\" >0.1725</td>\n",
       "      <td id=\"T_cd634_row15_col7\" class=\"data row15 col7\" >0.7630</td>\n",
       "    </tr>\n",
       "  </tbody>\n",
       "</table>\n"
      ],
      "text/plain": [
       "<pandas.io.formats.style.Styler at 0x284d2c3e5c0>"
      ]
     },
     "metadata": {},
     "output_type": "display_data"
    },
    {
     "data": {
      "text/html": [],
      "text/plain": [
       "<IPython.core.display.HTML object>"
      ]
     },
     "metadata": {},
     "output_type": "display_data"
    }
   ],
   "source": [
    "# compare all models\n",
    "best = compare_models()"
   ]
  },
  {
   "cell_type": "code",
   "execution_count": 33,
   "id": "46aa0b26-bd0d-4d9b-b9b0-475a84f346e4",
   "metadata": {},
   "outputs": [],
   "source": [
    "tuned_best = tune_model(best)"
   ]
  },
  {
   "cell_type": "code",
   "execution_count": 34,
   "id": "5ea81bea",
   "metadata": {},
   "outputs": [
    {
     "data": {
      "text/html": [],
      "text/plain": [
       "<IPython.core.display.HTML object>"
      ]
     },
     "metadata": {},
     "output_type": "display_data"
    },
    {
     "data": {
      "image/png": "[encoded data removed]",
      "text/plain": [
       "<Figure size 800x550 with 2 Axes>"
      ]
     },
     "metadata": {},
     "output_type": "display_data"
    }
   ],
   "source": [
    "# check the residuals of trained model\n",
    "plot_model(tuned_best, plot = 'residuals')"
   ]
  },
  {
   "cell_type": "code",
   "execution_count": 5,
   "id": "7cb2030a",
   "metadata": {
    "scrolled": true
   },
   "outputs": [
    {
     "data": {
      "text/html": [],
      "text/plain": [
       "<IPython.core.display.HTML object>"
      ]
     },
     "metadata": {},
     "output_type": "display_data"
    },
    {
     "data": {
      "image/png": "[encoded data removed]",
      "text/plain": [
       "<Figure size 800x500 with 1 Axes>"
      ]
     },
     "metadata": {},
     "output_type": "display_data"
    }
   ],
   "source": [
    "# check feature importance\n",
    "plot_model(tuned_best, plot = 'feature')"
   ]
  },
  {
   "cell_type": "code",
   "execution_count": 21,
   "id": "aaea49b9",
   "metadata": {},
   "outputs": [
    {
     "name": "stdout",
     "output_type": "stream",
     "text": [
      "Transformation Pipeline and Model Successfully Saved\n"
     ]
    },
    {
     "data": {
      "text/plain": [
       "(Pipeline(memory=FastMemory(location=C:\\Users\\WMYFHCK\\AppData\\Local\\Temp\\joblib),\n",
       "          steps=[('target_transformation',\n",
       "                  TransformerWrapperWithInverse(transformer=TargetTransformer(estimator=PowerTransformer(standardize=False)))),\n",
       "                 ('numerical_imputer',\n",
       "                  TransformerWrapper(include=['Carat Weight'],\n",
       "                                     transformer=SimpleImputer())),\n",
       "                 ('categorical_imputer',\n",
       "                  TransformerW...\n",
       " dtype: int64}]))),\n",
       "                 ('onehot_encoding',\n",
       "                  TransformerWrapper(include=['Cut', 'Color', 'Clarity',\n",
       "                                              'Polish', 'Symmetry'],\n",
       "                                     transformer=OneHotEncoder(cols=['Cut',\n",
       "                                                                     'Color',\n",
       "                                                                     'Clarity',\n",
       "                                                                     'Polish',\n",
       "                                                                     'Symmetry'],\n",
       "                                                               handle_missing='return_nan',\n",
       "                                                               use_cat_names=True))),\n",
       "                 ('clean_column_names',\n",
       "                  TransformerWrapper(transformer=CleanColumnNames())),\n",
       "                 ('actual_estimator', LGBMRegressor(random_state=5004))]),\n",
       " 'diamond-pipeline.pkl')"
      ]
     },
     "execution_count": 21,
     "metadata": {},
     "output_type": "execute_result"
    }
   ],
   "source": [
    "# finalize the model\n",
    "final_best = finalize_model(best)\n",
    "\n",
    "# save model to disk\n",
    "save_model(final_best, 'diamond-pipeline')"
   ]
  },
  {
   "cell_type": "markdown",
   "id": "ea971a0c",
   "metadata": {},
   "source": [
    "### Model management with MLFlow"
   ]
  },
  {
   "cell_type": "code",
   "execution_count": 7,
   "id": "b9e12dab",
   "metadata": {},
   "outputs": [
    {
     "name": "stdout",
     "output_type": "stream",
     "text": [
      "^C\n"
     ]
    }
   ],
   "source": [
    "# within notebook (notice ! sign infront)\n",
    "!mlflow ui\n"
   ]
  },
  {
   "cell_type": "code",
   "execution_count": 8,
   "id": "00b16b54",
   "metadata": {},
   "outputs": [],
   "source": [
    "#localhost:5000"
   ]
  },
  {
   "cell_type": "code",
   "execution_count": 36,
   "id": "9e313e84-04f4-4939-9308-95204ad1bcbb",
   "metadata": {},
   "outputs": [
    {
     "data": {
      "text/html": [
       "<div>\n",
       "<style scoped>\n",
       "    .dataframe tbody tr th:only-of-type {\n",
       "        vertical-align: middle;\n",
       "    }\n",
       "\n",
       "    .dataframe tbody tr th {\n",
       "        vertical-align: top;\n",
       "    }\n",
       "\n",
       "    .dataframe thead th {\n",
       "        text-align: right;\n",
       "    }\n",
       "</style>\n",
       "<table border=\"1\" class=\"dataframe\">\n",
       "  <thead>\n",
       "    <tr style=\"text-align: right;\">\n",
       "      <th></th>\n",
       "      <th>Carat Weight</th>\n",
       "      <th>Cut</th>\n",
       "      <th>Color</th>\n",
       "      <th>Clarity</th>\n",
       "      <th>Polish</th>\n",
       "      <th>Symmetry</th>\n",
       "      <th>Report</th>\n",
       "      <th>Price</th>\n",
       "    </tr>\n",
       "  </thead>\n",
       "  <tbody>\n",
       "    <tr>\n",
       "      <th>0</th>\n",
       "      <td>1.10</td>\n",
       "      <td>Ideal</td>\n",
       "      <td>H</td>\n",
       "      <td>SI1</td>\n",
       "      <td>VG</td>\n",
       "      <td>EX</td>\n",
       "      <td>GIA</td>\n",
       "      <td>5169</td>\n",
       "    </tr>\n",
       "    <tr>\n",
       "      <th>1</th>\n",
       "      <td>0.83</td>\n",
       "      <td>Ideal</td>\n",
       "      <td>H</td>\n",
       "      <td>VS1</td>\n",
       "      <td>ID</td>\n",
       "      <td>ID</td>\n",
       "      <td>AGSL</td>\n",
       "      <td>3470</td>\n",
       "    </tr>\n",
       "    <tr>\n",
       "      <th>2</th>\n",
       "      <td>0.85</td>\n",
       "      <td>Ideal</td>\n",
       "      <td>H</td>\n",
       "      <td>SI1</td>\n",
       "      <td>EX</td>\n",
       "      <td>EX</td>\n",
       "      <td>GIA</td>\n",
       "      <td>3183</td>\n",
       "    </tr>\n",
       "    <tr>\n",
       "      <th>3</th>\n",
       "      <td>0.91</td>\n",
       "      <td>Ideal</td>\n",
       "      <td>E</td>\n",
       "      <td>SI1</td>\n",
       "      <td>VG</td>\n",
       "      <td>VG</td>\n",
       "      <td>GIA</td>\n",
       "      <td>4370</td>\n",
       "    </tr>\n",
       "    <tr>\n",
       "      <th>4</th>\n",
       "      <td>0.83</td>\n",
       "      <td>Ideal</td>\n",
       "      <td>G</td>\n",
       "      <td>SI1</td>\n",
       "      <td>EX</td>\n",
       "      <td>EX</td>\n",
       "      <td>GIA</td>\n",
       "      <td>3171</td>\n",
       "    </tr>\n",
       "  </tbody>\n",
       "</table>\n",
       "</div>"
      ],
      "text/plain": [
       "   Carat Weight    Cut Color Clarity Polish Symmetry Report  Price\n",
       "0          1.10  Ideal     H     SI1     VG       EX    GIA   5169\n",
       "1          0.83  Ideal     H     VS1     ID       ID   AGSL   3470\n",
       "2          0.85  Ideal     H     SI1     EX       EX    GIA   3183\n",
       "3          0.91  Ideal     E     SI1     VG       VG    GIA   4370\n",
       "4          0.83  Ideal     G     SI1     EX       EX    GIA   3171"
      ]
     },
     "execution_count": 36,
     "metadata": {},
     "output_type": "execute_result"
    }
   ],
   "source": [
    "data.head()"
   ]
  },
  {
   "cell_type": "markdown",
   "id": "6486d132",
   "metadata": {},
   "source": [
    "### Consume the model"
   ]
  },
  {
   "cell_type": "code",
   "execution_count": 37,
   "id": "372e676b",
   "metadata": {},
   "outputs": [
    {
     "data": {
      "text/plain": [
       "0        5440.047605\n",
       "1        3591.522813\n",
       "2        3390.511263\n",
       "3        4564.470475\n",
       "4        3276.566317\n",
       "            ...     \n",
       "5995     6207.019943\n",
       "5996     5740.058906\n",
       "5997     6149.542328\n",
       "5998    11165.044601\n",
       "5999    37830.332664\n",
       "Name: Price, Length: 6000, dtype: float64"
      ]
     },
     "execution_count": 37,
     "metadata": {},
     "output_type": "execute_result"
    }
   ],
   "source": [
    "import mlflow\n",
    "logged_model = 'runs:/14f22e72cb29422fbd16745813db5942/model'\n",
    "\n",
    "# Load model as a PyFuncModel.\n",
    "loaded_model = mlflow.pyfunc.load_model(logged_model)\n",
    "\n",
    "# Predict on a Pandas DataFrame.\n",
    "import pandas as pd\n",
    "loaded_model.predict(pd.DataFrame(data).drop([\"Price\"], axis=1))"
   ]
  },
  {
   "cell_type": "code",
   "execution_count": 38,
   "id": "ed99fff2",
   "metadata": {},
   "outputs": [
    {
     "name": "stdout",
     "output_type": "stream",
     "text": [
      "mlflow.pyfunc.loaded_model:\n",
      "  artifact_path: model\n",
      "  flavor: mlflow.sklearn\n",
      "  run_id: 14f22e72cb29422fbd16745813db5942\n",
      "\n"
     ]
    }
   ],
   "source": [
    "# print pipeline\n",
    "print(loaded_model)"
   ]
  },
  {
   "cell_type": "code",
   "execution_count": 39,
   "id": "cf26fcdc",
   "metadata": {},
   "outputs": [
    {
     "name": "stdout",
     "output_type": "stream",
     "text": [
      "Transformation Pipeline and Model Successfully Loaded\n"
     ]
    }
   ],
   "source": [
    "pipeline = load_model('C:/Users/WMYFHCK/Documents/github_personal/mlops/Model versioning and registration with MLFlow/mlruns/1/14f22e72cb29422fbd16745813db5942/artifacts/model/model')"
   ]
  },
  {
   "cell_type": "code",
   "execution_count": 24,
   "id": "05dc0f2f-a77e-4c7a-aef4-d5733e5be4cd",
   "metadata": {},
   "outputs": [
    {
     "name": "stdout",
     "output_type": "stream",
     "text": [
      "Transformation Pipeline and Model Successfully Loaded\n"
     ]
    }
   ],
   "source": [
    "pipeline = load_model('diamond-pipeline')"
   ]
  },
  {
   "cell_type": "code",
   "execution_count": 40,
   "id": "7c82c84f",
   "metadata": {},
   "outputs": [
    {
     "name": "stdout",
     "output_type": "stream",
     "text": [
      "Pipeline(memory=FastMemory(location=C:\\Users\\WMYFHCK\\AppData\\Local\\Temp\\joblib),\n",
      "         steps=[('target_transformation',\n",
      "                 TransformerWrapperWithInverse(transformer=TargetTransformer(estimator=PowerTransformer(standardize=False)))),\n",
      "                ('numerical_imputer',\n",
      "                 TransformerWrapper(include=['Carat Weight'],\n",
      "                                    transformer=SimpleImputer())),\n",
      "                ('categorical_imputer',\n",
      "                 TransformerW...\n",
      "                ('onehot_encoding',\n",
      "                 TransformerWrapper(include=['Cut', 'Color', 'Clarity',\n",
      "                                             'Polish', 'Symmetry'],\n",
      "                                    transformer=OneHotEncoder(cols=['Cut',\n",
      "                                                                    'Color',\n",
      "                                                                    'Clarity',\n",
      "                                                                    'Polish',\n",
      "                                                                    'Symmetry'],\n",
      "                                                              handle_missing='return_nan',\n",
      "                                                              use_cat_names=True))),\n",
      "                ('clean_column_names',\n",
      "                 TransformerWrapper(transformer=CleanColumnNames())),\n",
      "                ['trained_model',\n",
      "                 LGBMRegressor(device='gpu', random_state=3500)]])\n"
     ]
    }
   ],
   "source": [
    "# print pipeline\n",
    "print(pipeline)"
   ]
  },
  {
   "cell_type": "code",
   "execution_count": 41,
   "id": "120c07ae",
   "metadata": {},
   "outputs": [
    {
     "data": {
      "text/html": [
       "<div>\n",
       "<style scoped>\n",
       "    .dataframe tbody tr th:only-of-type {\n",
       "        vertical-align: middle;\n",
       "    }\n",
       "\n",
       "    .dataframe tbody tr th {\n",
       "        vertical-align: top;\n",
       "    }\n",
       "\n",
       "    .dataframe thead th {\n",
       "        text-align: right;\n",
       "    }\n",
       "</style>\n",
       "<table border=\"1\" class=\"dataframe\">\n",
       "  <thead>\n",
       "    <tr style=\"text-align: right;\">\n",
       "      <th></th>\n",
       "      <th>Carat Weight</th>\n",
       "      <th>Cut</th>\n",
       "      <th>Color</th>\n",
       "      <th>Clarity</th>\n",
       "      <th>Polish</th>\n",
       "      <th>Symmetry</th>\n",
       "      <th>Report</th>\n",
       "      <th>Price</th>\n",
       "    </tr>\n",
       "  </thead>\n",
       "  <tbody>\n",
       "    <tr>\n",
       "      <th>0</th>\n",
       "      <td>1.10</td>\n",
       "      <td>Ideal</td>\n",
       "      <td>H</td>\n",
       "      <td>SI1</td>\n",
       "      <td>VG</td>\n",
       "      <td>EX</td>\n",
       "      <td>GIA</td>\n",
       "      <td>5169</td>\n",
       "    </tr>\n",
       "    <tr>\n",
       "      <th>1</th>\n",
       "      <td>0.83</td>\n",
       "      <td>Ideal</td>\n",
       "      <td>H</td>\n",
       "      <td>VS1</td>\n",
       "      <td>ID</td>\n",
       "      <td>ID</td>\n",
       "      <td>AGSL</td>\n",
       "      <td>3470</td>\n",
       "    </tr>\n",
       "    <tr>\n",
       "      <th>2</th>\n",
       "      <td>0.85</td>\n",
       "      <td>Ideal</td>\n",
       "      <td>H</td>\n",
       "      <td>SI1</td>\n",
       "      <td>EX</td>\n",
       "      <td>EX</td>\n",
       "      <td>GIA</td>\n",
       "      <td>3183</td>\n",
       "    </tr>\n",
       "    <tr>\n",
       "      <th>3</th>\n",
       "      <td>0.91</td>\n",
       "      <td>Ideal</td>\n",
       "      <td>E</td>\n",
       "      <td>SI1</td>\n",
       "      <td>VG</td>\n",
       "      <td>VG</td>\n",
       "      <td>GIA</td>\n",
       "      <td>4370</td>\n",
       "    </tr>\n",
       "    <tr>\n",
       "      <th>4</th>\n",
       "      <td>0.83</td>\n",
       "      <td>Ideal</td>\n",
       "      <td>G</td>\n",
       "      <td>SI1</td>\n",
       "      <td>EX</td>\n",
       "      <td>EX</td>\n",
       "      <td>GIA</td>\n",
       "      <td>3171</td>\n",
       "    </tr>\n",
       "  </tbody>\n",
       "</table>\n",
       "</div>"
      ],
      "text/plain": [
       "   Carat Weight    Cut Color Clarity Polish Symmetry Report  Price\n",
       "0          1.10  Ideal     H     SI1     VG       EX    GIA   5169\n",
       "1          0.83  Ideal     H     VS1     ID       ID   AGSL   3470\n",
       "2          0.85  Ideal     H     SI1     EX       EX    GIA   3183\n",
       "3          0.91  Ideal     E     SI1     VG       VG    GIA   4370\n",
       "4          0.83  Ideal     G     SI1     EX       EX    GIA   3171"
      ]
     },
     "metadata": {},
     "output_type": "display_data"
    }
   ],
   "source": [
    "data = get_data('diamond')\n",
    "\n",
    "# create a copy of data and drop Price\n",
    "data2 = data.copy()\n",
    "data2.drop('Price', axis=1, inplace=True)"
   ]
  },
  {
   "cell_type": "code",
   "execution_count": 42,
   "id": "23c11d0c",
   "metadata": {},
   "outputs": [
    {
     "data": {
      "text/html": [],
      "text/plain": [
       "<IPython.core.display.HTML object>"
      ]
     },
     "metadata": {},
     "output_type": "display_data"
    },
    {
     "data": {
      "text/html": [
       "<div>\n",
       "<style scoped>\n",
       "    .dataframe tbody tr th:only-of-type {\n",
       "        vertical-align: middle;\n",
       "    }\n",
       "\n",
       "    .dataframe tbody tr th {\n",
       "        vertical-align: top;\n",
       "    }\n",
       "\n",
       "    .dataframe thead th {\n",
       "        text-align: right;\n",
       "    }\n",
       "</style>\n",
       "<table border=\"1\" class=\"dataframe\">\n",
       "  <thead>\n",
       "    <tr style=\"text-align: right;\">\n",
       "      <th></th>\n",
       "      <th>Carat Weight</th>\n",
       "      <th>Cut</th>\n",
       "      <th>Color</th>\n",
       "      <th>Clarity</th>\n",
       "      <th>Polish</th>\n",
       "      <th>Symmetry</th>\n",
       "      <th>Report</th>\n",
       "      <th>prediction_label</th>\n",
       "    </tr>\n",
       "  </thead>\n",
       "  <tbody>\n",
       "    <tr>\n",
       "      <th>0</th>\n",
       "      <td>1.10</td>\n",
       "      <td>Ideal</td>\n",
       "      <td>H</td>\n",
       "      <td>SI1</td>\n",
       "      <td>VG</td>\n",
       "      <td>EX</td>\n",
       "      <td>GIA</td>\n",
       "      <td>5440.047605</td>\n",
       "    </tr>\n",
       "    <tr>\n",
       "      <th>1</th>\n",
       "      <td>0.83</td>\n",
       "      <td>Ideal</td>\n",
       "      <td>H</td>\n",
       "      <td>VS1</td>\n",
       "      <td>ID</td>\n",
       "      <td>ID</td>\n",
       "      <td>AGSL</td>\n",
       "      <td>3591.522813</td>\n",
       "    </tr>\n",
       "    <tr>\n",
       "      <th>2</th>\n",
       "      <td>0.85</td>\n",
       "      <td>Ideal</td>\n",
       "      <td>H</td>\n",
       "      <td>SI1</td>\n",
       "      <td>EX</td>\n",
       "      <td>EX</td>\n",
       "      <td>GIA</td>\n",
       "      <td>3390.511263</td>\n",
       "    </tr>\n",
       "    <tr>\n",
       "      <th>3</th>\n",
       "      <td>0.91</td>\n",
       "      <td>Ideal</td>\n",
       "      <td>E</td>\n",
       "      <td>SI1</td>\n",
       "      <td>VG</td>\n",
       "      <td>VG</td>\n",
       "      <td>GIA</td>\n",
       "      <td>4564.470475</td>\n",
       "    </tr>\n",
       "    <tr>\n",
       "      <th>4</th>\n",
       "      <td>0.83</td>\n",
       "      <td>Ideal</td>\n",
       "      <td>G</td>\n",
       "      <td>SI1</td>\n",
       "      <td>EX</td>\n",
       "      <td>EX</td>\n",
       "      <td>GIA</td>\n",
       "      <td>3276.566317</td>\n",
       "    </tr>\n",
       "  </tbody>\n",
       "</table>\n",
       "</div>"
      ],
      "text/plain": [
       "   Carat Weight    Cut Color Clarity Polish Symmetry Report  prediction_label\n",
       "0          1.10  Ideal     H     SI1     VG       EX    GIA       5440.047605\n",
       "1          0.83  Ideal     H     VS1     ID       ID   AGSL       3591.522813\n",
       "2          0.85  Ideal     H     SI1     EX       EX    GIA       3390.511263\n",
       "3          0.91  Ideal     E     SI1     VG       VG    GIA       4564.470475\n",
       "4          0.83  Ideal     G     SI1     EX       EX    GIA       3276.566317"
      ]
     },
     "execution_count": 42,
     "metadata": {},
     "output_type": "execute_result"
    }
   ],
   "source": [
    "# generate predictions\n",
    "from pycaret.regression import predict_model\n",
    "predictions = predict_model(pipeline, data=data2)\n",
    "predictions.head()"
   ]
  },
  {
   "cell_type": "code",
   "execution_count": null,
   "id": "e1cf681c",
   "metadata": {},
   "outputs": [],
   "source": []
  },
  {
   "cell_type": "code",
   "execution_count": null,
   "id": "89be685f",
   "metadata": {},
   "outputs": [],
   "source": []
  }
 ],
 "metadata": {
  "kernelspec": {
   "display_name": "mlops_udemy",
   "language": "python",
   "name": "mlops_learning"
  },
  "language_info": {
   "codemirror_mode": {
    "name": "ipython",
    "version": 3
   },
   "file_extension": ".py",
   "mimetype": "text/x-python",
   "name": "python",
   "nbconvert_exporter": "python",
   "pygments_lexer": "ipython3",
   "version": "3.10.9"
  }
 },
 "nbformat": 4,
 "nbformat_minor": 5
}
